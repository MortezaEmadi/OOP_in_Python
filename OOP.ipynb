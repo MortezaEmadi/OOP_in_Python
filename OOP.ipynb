{
 "cells": [
  {
   "cell_type": "markdown",
   "metadata": {},
   "source": [
    "<div class=\"alert alert-info\">\n",
    "    <h1 align=\"center\">OOP Tutorial</h1> \n",
    "    <h3 align=\"center\">By Morteza Emadi</h3>\n",
    "    # motesfane ostad data descripto ro nagfot va karbord static method vague bdu va tafavotesh ba class method daghun bud\n",
    "    <h5 align=\"center\"></h5>\n",
    "</div>\n"
   ]
  },
  {
   "cell_type": "code",
   "execution_count": 2,
   "metadata": {},
   "outputs": [],
   "source": [
    "class Test:\n",
    "    ''' class for add  , mul '''\n",
    "    def set_var(self,a,b):\n",
    "        self.ProPa = a\n",
    "        self.ProPb = b\n",
    "    \n",
    "    def add(self):\n",
    "        return self.ProPa + self.ProPb\n",
    "    \n",
    "    def mul(self):\n",
    "        return self.ProPa * self.ProPb\n",
    "    "
   ]
  },
  {
   "cell_type": "markdown",
   "metadata": {},
   "source": [
    "* class name: Test\n",
    "* self: parametre ya atribute e vajeb ke esm khode OBJECT/Instance e calling mire jaye Self! ta bash bazi bshe dar methods va..\n",
    "#### <mark>amalan dar har functioni param aval ro self bayad bezari,ama dar call kardane hame object ha dge nbas vase self addad vorudi bedi,khode esme object automate mire jash\n",
    "* properties: vizhegi haye object haye darune class, khasise! \n",
    "* 3ta method (ke yekish ke set_var bashe hamun kare init ro dare ba zahmat bishtar mikone)\n",
    "* Obj=classNAme() dar vaghe instance ya moteghayeri hast az noe classse madenazar\n",
    "* properties/atributes= a/b : parametre haye vorudie class hayat(mese rang ya vazn..)mituni ham:\n",
    "    * belaxe set var dakhele khode class besh meghdar sabet bedi:mishe atribute khali\n",
    "    * hamun atribute e sabet ro if ba setter va getter va del bahashun bazi koni mishe ye property"
   ]
  },
  {
   "cell_type": "code",
   "execution_count": 3,
   "metadata": {},
   "outputs": [
    {
     "name": "stdout",
     "output_type": "stream",
     "text": [
      "2\n",
      "5\n",
      "6\n"
     ]
    }
   ],
   "source": [
    "ob1=Test()\n",
    "ob1.set_var(2,3)\n",
    "print(ob1.ProPa)\n",
    "print(ob1.add()) # 2+3=5\n",
    "print(ob1.mul()) # 2*3=6"
   ]
  },
  {
   "cell_type": "markdown",
   "metadata": {},
   "source": [
    "#### Propery VS. aatribute:\n",
    "Properties are a special kind of attribute...With a property you have complete control on its getter, setter and deleter methods, which you don't have (if not using caveats) with an attribute.\n",
    "```python\n",
    "class A(object):\n",
    "    _x = 0\n",
    "    '''A._x is an attribute'''\n",
    "\n",
    "    @property\n",
    "    @x.getter\n",
    "    def x(self):\n",
    "        '''\n",
    "        A.x is a property\n",
    "        This is the getter method\n",
    "        '''\n",
    "        return self._x\n",
    "\n",
    "    @x.setter\n",
    "    def x(self, value):\n",
    "        \"\"\"\n",
    "        This is the setter method\n",
    "        where I can check it's not assigned a value < 0\n",
    "        \"\"\"\n",
    "        if value < 0:\n",
    "            raise ValueError(\"Must be >= 0\")\n",
    "        self._x = value\n",
    "```"
   ]
  },
  {
   "cell_type": "code",
   "execution_count": 4,
   "metadata": {},
   "outputs": [
    {
     "name": "stdout",
     "output_type": "stream",
     "text": [
      "True\n",
      "<class '__main__.Test'>\n"
     ]
    }
   ],
   "source": [
    "#Read-only Attributes\n",
    "# 1.object.__dict__: kole attribute hayi ke aan instance darad ro be surate dict list mikonad\n",
    "ob1.__dict__\n",
    "#is instance:baresi inke object motalgh be oon clas hast ya na\n",
    "print(isinstance(ob1,Test))\n",
    "#ya instance bede esme class begir\n",
    "print(type(ob1))"
   ]
  },
  {
   "cell_type": "markdown",
   "metadata": {},
   "source": [
    "## <mark> double dunder/reseved method __init__= its a CONSTRUCTOR (sazande) func\n",
    "#### fayedash ineke Methods jodagane nmikhad seda bzani ta meghdar dehi b properties aslie object koni,(be mhaze sakhte har Objecti,in automate seda zade mishe)rahattar miad vasat properties haye avalie ro meghdar Giri mikone! chetor? teye hamun naam gozari objecte(shey)e class dar parantesesh meghdar bedi,init migir atesh! shabhe set_var dar mesale bala ro anjam mide ama callingesh dge esme init nmikhad: ob1 =Test(2, 3) "
   ]
  },
  {
   "cell_type": "code",
   "execution_count": 5,
   "metadata": {},
   "outputs": [],
   "source": [
    "class Test:\n",
    "    def __init__(self,a,b):\n",
    "        self.a = a\n",
    "        self.b = b\n",
    "    \n",
    "    def add(self):\n",
    "        return self.a + self.b\n",
    "    \n",
    "    def mul(self):\n",
    "        return self.a * self.b\n",
    "    \n",
    "ob1 =Test(2, 3) "
   ]
  },
  {
   "cell_type": "code",
   "execution_count": 8,
   "metadata": {},
   "outputs": [
    {
     "name": "stdout",
     "output_type": "stream",
     "text": [
      "[{'name': 'mahsa', 'score': 20}, {'name': 'ali', 'score': 17}]\n",
      "{'name': 'mahsa', 'score': 20}\n"
     ]
    }
   ],
   "source": [
    "class Student:\n",
    "    def __init__(self, name, score=None):\n",
    "        self.d = {}\n",
    "        self.d['name'] = name\n",
    "        self.d['score'] = score\n",
    "    #%this is a getter method for the dicts property of d that contains two iner property:\n",
    "    def get_stu(self):\n",
    "         return self.d\n",
    "\n",
    "lst = []        \n",
    "\n",
    "obj1 = Student('mahsa',20)\n",
    "obj2 = Student('ali',17)\n",
    "\n",
    "lst.append(obj1.get_stu())\n",
    "lst.append(obj2.get_stu())\n",
    "\n",
    "print(lst) # [{'name': 'mahsa', 'score': 20}, {'name': 'ali', 'score': 17}]\n",
    "\n",
    "print(lst[0]) # {'name': 'mahsa', 'score': 20}"
   ]
  },
  {
   "cell_type": "code",
   "execution_count": 7,
   "metadata": {},
   "outputs": [
    {
     "data": {
      "text/plain": [
       "12.56"
      ]
     },
     "execution_count": 7,
     "metadata": {},
     "output_type": "execute_result"
    }
   ],
   "source": [
    "class Circle:\n",
    "    def __init__(self,r=1):\n",
    "        self.r=r\n",
    "    def round(self):\n",
    "        return 2*3.14*self.r\n",
    "circ=Circle(2)\n",
    "circ.round()"
   ]
  },
  {
   "cell_type": "markdown",
   "metadata": {},
   "source": [
    "## <mark> **Deghat**\n",
    "#### gahti nakon! gahi mishe class vorudi bkhad ke dar init azash use koni,,ama dar eyne hal yedune FUNC e addie dakhele class vorudi joda ba esme joda asan bkhad ke sare calling e khodesh niazesh dari\n",
    "#### baz deghat ke ba calling haye mojdad ba moteghayer haye jadid (albate in the same instance)moteghayer haye ghabli haminjuri save mishan va hata age taghiri rushun dar func bas emal bshe dar har run in change emal mishe\n",
    "#### E.g: <mark> in ro dar mesale 2vome Private varibale be name Inner class avordam!"
   ]
  },
  {
   "cell_type": "markdown",
   "metadata": {},
   "source": [
    "### <mark>**Class variable vs Instance varibale**:\n",
    "#### class variable ro daqiq baede esme class va ghable init terif mikoni va vase hameye object ha(instances) is the same and equal! but an INSTANCE VARIBALE shoud be defined on the self(self.var) and whithin the funcs:\n",
    "#### <mark>ALSO</mark> a Class variable even can be called just as a property of the whole class name!(like Student.field inthe 2nd example..)but this work is not applicable for a instance varibale\n",
    "    \n",
    "* **WHEN==**.sometimes u need to change an atribute with the access from all the instances of the class and read it by all other objects(eg: C,va lst) so u have to define it in general and before init;if you ascribe it to self in the init it will be diff for each instance"
   ]
  },
  {
   "cell_type": "code",
   "execution_count": 11,
   "metadata": {},
   "outputs": [
    {
     "name": "stdout",
     "output_type": "stream",
     "text": [
      "[1, 2, 3]\n",
      "[1, 2, 3]\n",
      "[1, 2, 3]\n",
      "[1, 2, 3, 4]\n",
      "[1, 2, 3, 4]\n"
     ]
    }
   ],
   "source": [
    "class C:\n",
    "    lst = [] ########this is callled CLASS VARIABE\n",
    "    \n",
    "    def __init__(self, name):\n",
    "        self.name = name\n",
    "#        self.lst = []    ###inja mizashti vaghti dar ob1 append mikard dar ob2 dge dide nmishod appendaye ob1!\n",
    "    def f(self, x):\n",
    "        self.lst.append(x)         \n",
    "\n",
    "ob1 = C('A')     \n",
    "ob2 = C('B')   \n",
    "\n",
    "ob1.f(1)\n",
    "ob1.f(2)\n",
    "ob1.f(3)\n",
    "\n",
    "print(ob1.lst)   # [1, 2, 3]     \n",
    "print(ob2.lst)   # [1, 2, 3]   \n",
    "# evem for the whole class name!=\n",
    "print(C.lst)     # [1, 2, 3]\n",
    "ob2.f(4)\n",
    "print(ob1.lst)   # [1, 2, 3, 4]     \n",
    "print(ob2.lst)   # [1, 2, 3, 4] "
   ]
  },
  {
   "cell_type": "code",
   "execution_count": 84,
   "metadata": {},
   "outputs": [
    {
     "name": "stdout",
     "output_type": "stream",
     "text": [
      "ali\n",
      "sara\n",
      "mech\n",
      "mech\n",
      "mech\n"
     ]
    }
   ],
   "source": [
    "class Student:\n",
    "    field = 'mech'   # class variable\n",
    "    \n",
    "    def __init__(self, name , score):\n",
    "        self.name = name      # instance variable\n",
    "        self.score = score    # instance variable\n",
    "# objects of student class\n",
    "s1 = Student('ali', 19)        \n",
    "\n",
    "s2 = Student('sara', 18) \n",
    "\n",
    "print(s1.name)    # ali    \n",
    "print(s2.name)    # sara\n",
    "\n",
    "print(s1.field)  #cse\n",
    "print(s2.field)  #cse \n",
    "\n",
    "print(Student.field)   # mech\n",
    "# print(Student.name)   # AttributeError"
   ]
  },
  {
   "cell_type": "markdown",
   "metadata": {},
   "source": [
    "### **Gahi behtare constructor e __init__ asan tarif nakoni! <mark>ya tarif koni ama parametre hai ro genral ghablesh biari(CLass VAribale)</mark>=**  \n",
    "* 1.age asan moteghayere vorudi niazi nabashe,hala har property ham bkhay GENRAL mituni taerif koni khob(eg. class uppercase)\n",
    "* 2.age asan vaghean hich kari ba vorudi nadari hata moteghayere sabt ham nadari(vaziate email ra har bar shift bedi ba tedade calling ha)\n",
    "\n"
   ]
  },
  {
   "cell_type": "code",
   "execution_count": 75,
   "metadata": {},
   "outputs": [
    {
     "name": "stdin",
     "output_type": "stream",
     "text": [
      "input:  asds\n"
     ]
    },
    {
     "name": "stdout",
     "output_type": "stream",
     "text": [
      "ASDS\n"
     ]
    }
   ],
   "source": [
    "class Uppercase():\n",
    "#     def __init__(self):\n",
    "#         self.s = ''\n",
    "    s = ''\n",
    "    def get_string(self):\n",
    "        self.s = input('input: ')\n",
    "  \n",
    "    def show(self):\n",
    "       print(self.s.upper())        \n",
    "       \n",
    "ob = Uppercase()       \n",
    "ob.get_string() \n",
    "ob.show()"
   ]
  },
  {
   "cell_type": "code",
   "execution_count": 12,
   "metadata": {},
   "outputs": [
    {
     "name": "stdout",
     "output_type": "stream",
     "text": [
      "False\n",
      "True\n"
     ]
    }
   ],
   "source": [
    "class Email:\n",
    "    def f(self):\n",
    "        self.sent = False\n",
    "    \n",
    "    def g(self):\n",
    "        self.sent = True\n",
    "        \n",
    "ob = Email()        \n",
    "ob.f()\n",
    "print(ob.sent)  # False\n",
    "ob.g()\n",
    "print(ob.sent)  # True"
   ]
  },
  {
   "cell_type": "markdown",
   "metadata": {},
   "source": [
    "## <mark>Private Variable -- & --!! Private Method!\n",
    "#### if we put a double underline __ bfore any varibale of a class (or the name of a method)it will be Private so:\n",
    "    1.we cannot access it directly **out** of the class by print or(call for methods)...\n",
    "    2.but we can change and call it within our class\n",
    "* However, even we can access and EveN change!! it indireclty by \"name mangling' technic! = <mark>**\\_'className'__'privtVaribaleName'**\n",
    "* Or we can aknowledge about the existence of it by calling \\__dict\\__ atr of the instance of the class\n",
    "* OR within the inner funcS you can permit displaying by the print(__name) func!\n"
   ]
  },
  {
   "cell_type": "code",
   "execution_count": 26,
   "metadata": {},
   "outputs": [
    {
     "name": "stdout",
     "output_type": "stream",
     "text": [
      "1\n",
      "3\n"
     ]
    }
   ],
   "source": [
    "class Test2:\n",
    "    def __init__(self, a, b):\n",
    "        self.a = a     # public\n",
    "        self.__b = b   # private\n",
    "\n",
    "    def f(self):\n",
    "        self.__b += 1\n",
    "        print(self.__b)\n",
    "ob1=Test2(1,2)\n",
    "print(ob1.a)\n",
    "ob1.f()\n"
   ]
  },
  {
   "cell_type": "code",
   "execution_count": 34,
   "metadata": {},
   "outputs": [
    {
     "name": "stdout",
     "output_type": "stream",
     "text": [
      "1\n",
      "3\n",
      "{'a': 1, '_Test2__b': 3}\n",
      "3\n",
      "8\n"
     ]
    }
   ],
   "source": [
    "class Test2:\n",
    "    def __init__(self, a, b):\n",
    "        self.a = a     # public\n",
    "        self.__b = b   # private\n",
    "\n",
    "    def f(self):\n",
    "        self.__b += 1\n",
    "        print(self.__b)\n",
    "    \n",
    "ob = Test2(1, 2)        \n",
    "print(ob.a)          # 1\n",
    "#print(ob.__b)       # AttributeError\n",
    "\n",
    "ob.f()               # 3   \n",
    "\n",
    "print(ob.__dict__)   # {'a': 1, '_Test2__b': 3} ###u see with __dict__ its been shown indirectly!!\n",
    "print(ob._Test2__b)   # 3     name mangling\n",
    "####\n",
    "ob._Test__b  = 8    ##chanig a private var\n",
    "print(ob._Test__b)   # 8"
   ]
  },
  {
   "cell_type": "code",
   "execution_count": 37,
   "metadata": {},
   "outputs": [
    {
     "data": {
      "text/plain": [
       "<__main__.Test2 at 0x7fde610>"
      ]
     },
     "execution_count": 37,
     "metadata": {},
     "output_type": "execute_result"
    }
   ],
   "source": [
    "ob.a\n",
    "ob ##chon hanuz str ro dars nadadim inja bedune eshare be parametre neshunesh nmide"
   ]
  },
  {
   "cell_type": "markdown",
   "metadata": {},
   "source": [
    "#### <mark>**tozihe commente akhare in code kheili moheme**"
   ]
  },
  {
   "cell_type": "code",
   "execution_count": 32,
   "metadata": {},
   "outputs": [
    {
     "name": "stdout",
     "output_type": "stream",
     "text": [
      "{'_Inner__a': 3}\n",
      "just a in f we have=\" 3 \" and at the end f() yields: 4\n",
      "just a in f we have=\" 4 \" and at the end f() yields: 10\n"
     ]
    }
   ],
   "source": [
    "class Inner:\n",
    "    def __init__(self, x):\n",
    "        self.__a = x\n",
    "        \n",
    "    def f(self):\n",
    "        print('just a in f we have=\"',self.__a,\"\\\" and at the end f() yields:\", end=' ')\n",
    "        self.__a += 1\n",
    "        return(self.__a)\n",
    "        \n",
    "    def g(self, m):\n",
    "       print( m + self.f())  ##deghat inja chon tudartu az func ghabli use karde hata oon printe func ghabli ham tu khoruji miad ,va deghat ke bare 2vom ke mehdar mide      \n",
    "       \n",
    "ob = Inner(3) \n",
    "print(ob.__dict__)   # {'_Inner__a': 1}\n",
    "print(ob.f())        # 1 2\n",
    "ob.g(5)   #deghat g dar taerifesh khodesh print dare bjaye return ##chon a az calle ghabli 3has(va khob meghdar dehi mojadad be a ke nakardim,chon alan darim be func \n",
    "            ##var midim(yaeni be m..! na be khode class) ba in calle jadid dar f mishe: 5!!hala miad tu g va onja5+5=10"
   ]
  },
  {
   "cell_type": "code",
   "execution_count": 33,
   "metadata": {},
   "outputs": [
    {
     "name": "stdout",
     "output_type": "stream",
     "text": [
      "1\n",
      "1\n"
     ]
    }
   ],
   "source": [
    "######## private Method (na variabke!!)\n",
    "\n",
    "class ABC:\n",
    "    def __f(self):  \n",
    "        print(1)\n",
    "    \n",
    "    def g(self):\n",
    "        return (self.__f())\n",
    "\n",
    "ob = ABC()    \n",
    "ob.g()      # 1\n",
    "# ob.__f()  # AttributeError\n",
    "\n",
    "ob._ABC__f() # 1"
   ]
  },
  {
   "cell_type": "markdown",
   "metadata": {},
   "source": [
    "## <mark>Majic Methods (Or: Dunder methods)\n",
    "#### Dunder: 2 underlines;; they are reserved methods that are pre-defined for u\n"
   ]
  },
  {
   "cell_type": "markdown",
   "metadata": {},
   "source": [
    "* \\_\\_init__ constructor:for easy use of whole class inputs\n",
    "* \\_\\_str__(Or:\\_\\_repr__) The \\_\\_str__ method in Python represents the class objects as a string.(deghat property koli class ro nmige ha(ghable init haro), aezaye FUNC haro ham nmige ha!!,serfan instance properties ro mide! yaeni har instance(object) of CLASS ye seri propert dare oonaro in METHoD=STR rahattar out mikone!)) The \\_\\_str__ method is called when the following functions are invoked on 1 or ALL objects of the func and return a string by:\n",
    "print()//str()///retun//return '....'.format///\n",
    "\n",
    "\n",
    "* \\_\\_len__ toole object ra miabi\n",
    "* \\_\\_getitem__ dar objecte madenazar be elemnte khasi ba index khasi dasresi mide(ALBAT: i ham besh bede),,va khob oon class bas vorudihaye object hasho be surate iterable me3l LIST daryaft kone\n",
    "* \\_\\_setitem__ dar objecte madenazar be elemnte khasi ba index khasi meghdare khasi ro nesbt mide(pas: i,j:index,value ham besh bede)\n",
    "* \\_\\_repr__::kheili moshabehe str hast ama developer ha vase debugging ham use mikonan!! i dont know!\n",
    "* \\_\\_call__::(Robot problem) ta be hal dashtim ruye object ha ya instance ha property ha shun ro get mikard ya hata duneyi set mikard;inam shabihe set has vali rahat tare!=>mige masan roboti dari dar Cartezian ba vazne sabet; in har bar makanesh avaz mishe va nmikhay hamsh Obj(=instance=new robot)jadidi besazi va YA har bar set zadan ham sakht tare;rahatesh ine betuni ba khode \"Esme Object Oon ro Call Koni va teye call 2ta az 3 ta proprty esh ham avaz koni!\": ba inke ghable in to faghat sare esm gozari Object mitunesti Class ro call koni va dar oon be sharte vojude \\_\\_init__ meghdar bedi ////**deghat** dar vorudish bejoz self bas oon propoerty hai ke mikhay teye call akhz bokoni ke change beshan ham bas eshare bokoni akhz beshan\n",
    "### <mark>sarbargozari/Overload Dunder Methods:\n",
    "#### **dar in Overload ha amalan vaghti mikhaym 2ta object ro bendazim be june ham khob niaze pas vorudie oon overloader(\\_\\_add__(self,o) ya..)yek ya chand ta para,etre baede self bgire ke oon ha object haye 2vom,3vom,... hastan\n",
    "* \\_\\_add__ ::overload on + Operator =>yaeni amale jame sade ro ruye object ha(instance ha) ham betunam anjam bedam!\n",
    "* \\_\\_gt__ ::overload on operator haye moghayesei=>ke yaeni object haro betunim Comparison konim\n",
    "* \\_\\_lt__\n",
    "* \\_\\_eq__"
   ]
  },
  {
   "cell_type": "code",
   "execution_count": 38,
   "metadata": {},
   "outputs": [
    {
     "name": "stdout",
     "output_type": "stream",
     "text": [
      "[45, 89, 12]\n",
      "[45, 89, 12]\n",
      "3\n",
      "89\n",
      "13\n"
     ]
    }
   ],
   "source": [
    "class A:\n",
    "    def __init__(self):\n",
    "        self.lst = [45, 89, 12]\n",
    "    \n",
    "    def __str__(self): \n",
    "        return str(self.lst)         \n",
    "    def __len__(self):\n",
    "        return len(self.lst)\n",
    "    def __getitem__(self, i):\n",
    "        return self.lst[i]\n",
    "    \n",
    "    def __setitem__(self, i, v):\n",
    "        self.lst[i] = v\n",
    "    \n",
    "ob = A()\n",
    "print(ob)       # [45, 89, 12]  ####'coz of __str'#######\n",
    "print(ob.lst)   # [45, 89, 12] \n",
    "\n",
    "print(len(ob))  # 3   ##'coz of len\n",
    "print(ob[1]) # 89     ##'coz of getitem'\n",
    "ob[1] = 13           ##its 'coz of __setitem\n",
    "print(ob[1]) # 13     ##taghir dad 89 ro be 13\n"
   ]
  },
  {
   "cell_type": "code",
   "execution_count": 40,
   "metadata": {},
   "outputs": [
    {
     "name": "stdout",
     "output_type": "stream",
     "text": [
      "04:26:30\n"
     ]
    }
   ],
   "source": [
    "\n",
    "class Clock:\n",
    "    def __init__(self , h, m, s):\n",
    "        self.h = h\n",
    "        self.m = m\n",
    "        self.s = s\n",
    "   \n",
    "    def __str__(self):\n",
    "        return \"{0:02d}:{1:02d}:{2:02d}\".format(self.h , self.m, self.s)\n",
    "        \n",
    "Rightnow1 = Clock(4, 26, 30)        \n",
    "print(Rightnow1)  # 4:26:30\n"
   ]
  },
  {
   "cell_type": "code",
   "execution_count": 9,
   "metadata": {},
   "outputs": [
    {
     "name": "stdout",
     "output_type": "stream",
     "text": [
      "Hamedan -b -123\n"
     ]
    }
   ],
   "source": [
    "class Address:\n",
    "    def __init__(self, c, s, z):\n",
    "        self.city = c\n",
    "        self.street = s\n",
    "        self.zipcode = z\n",
    "        \n",
    "    def __str__(self):\n",
    "        lst = []\n",
    "        lst.append(f'{self.city} -{self.street} -{self.zipcode}')\n",
    "        return ' '.join(lst)\n",
    "         \n",
    "a = Address('Hamedan', 'b' , '123')            \n",
    "print(a)  # Hamedan -b -123"
   ]
  },
  {
   "cell_type": "code",
   "execution_count": 41,
   "metadata": {},
   "outputs": [
    {
     "name": "stdout",
     "output_type": "stream",
     "text": [
      "1,2,9\n",
      "3,4,9\n"
     ]
    }
   ],
   "source": [
    "class Robot2:\n",
    "    def __init__(self,x,y,w):\n",
    "        self.x=x\n",
    "        self.y=y\n",
    "        self.w=w\n",
    "\n",
    "    def __str__(self):\n",
    "        return f'{self.x},{self.y},{self.w}'\n",
    "    def __call__(self,x,y):\n",
    "        self.x=x\n",
    "        self.y=y\n",
    "mori_ema=Robot2(1,2,9)\n",
    "print(mori_ema)\n",
    "mori_ema(3,4)\n",
    "print(mori_ema)"
   ]
  },
  {
   "cell_type": "markdown",
   "metadata": {},
   "source": [
    "#### **dar in Overload ha amalan vaghti mikhaym 2ta object ro bendazim be june ham khob niaze pas vorudie oon overloader(\\_\\_add__(self,o) ya..)yek ya chand ta para,etre baede self bgire ke oon ha object haye 2vom,3vom,... hastan**\n"
   ]
  },
  {
   "cell_type": "code",
   "execution_count": 42,
   "metadata": {},
   "outputs": [
    {
     "name": "stdout",
     "output_type": "stream",
     "text": [
      "(3, 7)\n"
     ]
    }
   ],
   "source": [
    "class Complex:  \n",
    "    \n",
    "    def __init__(self, a, b):\n",
    "        self.a = a\n",
    "        self.b = b\n",
    "     \n",
    "    def __add__(self, o):  #inja amalan self b =>ob1 janeshin mishe va \"o\" b =>obj2 janeshin mishe!!!***############\n",
    "        x = self.a + o.a\n",
    "        y = self.b + o.b\n",
    "        return x, y\n",
    "        \n",
    "ob1 = Complex(1, 3)     # 1 + 3i\n",
    "ob2 = Complex(2, 4)     # 2 + 4i\n",
    "ob3 = ob1 + ob2\n",
    "print(ob3)              # (3, 7)"
   ]
  },
  {
   "cell_type": "code",
   "execution_count": 17,
   "metadata": {},
   "outputs": [
    {
     "name": "stdout",
     "output_type": "stream",
     "text": [
      "True\n",
      "not equal\n"
     ]
    }
   ],
   "source": [
    "class ABC:\n",
    "    def __init__(self, a):\n",
    "        self.a = a\n",
    "    \n",
    "    def __lt__(self, o ):\n",
    "        if(self.a < o.a):\n",
    "            return True\n",
    "        else:\n",
    "            return False\n",
    "    \n",
    "    def __eq__(self, o):\n",
    "        if (self.a == o.a):\n",
    "            return 'equal'\n",
    "        else:\n",
    "            return 'not equal'\n",
    "        \n",
    "ob1 = ABC(2)    \n",
    "ob2 = ABC(5)\n",
    "\n",
    "print(ob1 < ob2)  # True #######amalan < ya > ya == vase 2ta obj tarif shode nistan age overloadeshun nmikardi\n",
    "\n",
    "print(ob1 == ob2) # not equal"
   ]
  },
  {
   "cell_type": "markdown",
   "metadata": {},
   "source": [
    "## data descriptor:\n",
    "### <mark>**kholase**</mark>: vaghti dar yek classi ye vizhegi ro ba tasavi= gozashtane sade pass bedi be ye \"Descriptor Class\" dge oon khodesh vasat set/get/.. ye atribute ro bedune codi dakhele classet handle mikone! \n",
    "https://blog.alihoseiny.ir/%D9%87%D9%85%D9%87%E2%80%8C%DA%86%DB%8C%D8%B2-%D8%AF%D8%B1%D9%85%D9%88%D8%B1%D8%AF-descriptor-%D9%87%D8%A7%DB%8C-%D8%B3%D8%AD%D8%B1%D8%A2%D9%85%DB%8C%D8%B2-%D9%BE%D8%A7%DB%8C%D8%AA%D9%88%D9%86/\n",
    "###  Any Class with at least one of the 3 methods of \\_\\_get__، \\_\\_set__ or \\_\\_delete__ ,that class is a descriptor! we use descriptors to manage the ATtRIBTE of multiple objects of one CLASS(OR even classes). the points to use them are diverse but one is to validate atributes values(e.g., sometimes only positive ones or string ones can be properties,this can filterout) \n",
    "* <mark>What is instance and owner here? (in __get__). What is the purpose and why only get has access to it!!!\n",
    "#### A descriptor is defined on a class, but is typically called from an instance. When it's called from an instance both instance and owner are set (and you can work out owner from instance so it seems kinda pointless). But when called from a class, only owner is set – which is why it's there.///This is only needed for __get__ because it's the only one that can be called on a class. If you set the class value you set the descriptor itself. \n",
    "### <mark>Advance tip</mark> in the article above says,descriptors dealling with many classes and instances face 2 troubles:\n",
    "* **<mark>trouble1:</mark>** when we change the value of atribute(=property) of an exact class whithin one descriptor..each time you change the value(property) all the last atributes for that class changes!! Damn truth!( <mark>I showed it in the 2nd example below,ob & ob2 shouldnt be equal!</mark>) so one solution here is save the values in \\_\\_get__ with as a dictionary,so keys represents diffrent times of asssigning..Refer to that Article above! \n",
    "* trouble2: in much objects with much storgae and not using garbage collectrs unless the class become deleted! So the best solution is to set the atribute of descriptor whithin each object with speecial value of \\_\\_dict__ ! read it in future! \n",
    "    \n",
    "#### _NOKtE_Mohem=dar vaghe dar code hay edescriptor mibini ke az 4 vaklue (instance,value)///(instance,owner) faghat value dar set ro shoma niaze\n",
    "#### ke besh dar code haye set va hamchenin code haye get eshare koni,,baghie(instance & Owner) ro khodesh teye call kardan mifahme!"
   ]
  },
  {
   "cell_type": "markdown",
   "metadata": {},
   "source": [
    "### <mark> ImPorTanT! in comment haye dakhele CELL e zir be fahmet az inke chejur dar class haat, atributes ro behtar be Descriptors</mark> pass bedi komak mikone! "
   ]
  },
  {
   "cell_type": "code",
   "execution_count": 34,
   "metadata": {},
   "outputs": [
    {
     "name": "stdout",
     "output_type": "stream",
     "text": [
      "Replace None with new value\n",
      "getting current value:\n",
      "10\n",
      "Replace 10 with new value\n",
      "getting current value:\n",
      "100\n"
     ]
    }
   ],
   "source": [
    "class MyDescriptor:\n",
    "    def __init__(self, value=None):\n",
    "        self.value = value\n",
    "    def __set__(self, instance, value):\n",
    "        print(f\"Replace {self.value} with new value\")\n",
    "        self.value = value\n",
    "    def __get__(self, instance, owner):\n",
    "        print(\"getting current value:\")\n",
    "        return self.value\n",
    "#_NOKtE_Mohem=dar vaghe dar code hay edescriptor mibini ke az 4 vaklue (instance,value)///(instance,owner) faghat value dar set ro shoma niaze\n",
    "## ke besh dar code haye set va hamchenin code haye get eshare koni,,baghie(instancce& owner) ro khodesh teye call kardan mifahme!\n",
    "##################################\n",
    "class SampleClass:\n",
    "    an_attribute = MyDescriptor()\n",
    "    \n",
    "    def __init__(self, n):\n",
    "        self.an_attribute = n\n",
    "################################\n",
    "simple_instance = SampleClass(10) #goes to descriptor, in there __set__ comes to handle it\n",
    "print(simple_instance.an_attribute) #goes to descriptor, in there __get__ comes to handle it\n",
    "simple_instance.an_attribute = 100\n",
    "print(simple_instance.an_attribute)"
   ]
  },
  {
   "cell_type": "code",
   "execution_count": 33,
   "metadata": {},
   "outputs": [
    {
     "name": "stdout",
     "output_type": "stream",
     "text": [
      "Replace None with new value\n",
      "getting current value:\n",
      "10\n",
      "Replace 10 with new value\n",
      "getting current value:\n",
      "100\n"
     ]
    }
   ],
   "source": [
    "class SampleClass2:\n",
    "    myatribute2 = MyDescriptor()\n",
    "####hata hamin pass dadane saade ba \"esme myatribute2\" be ye descripto kafie ta vaghti be class atribute set koni baaz ham bede be descripto vasash kar kone!\n",
    "##Albate raveshe avali ba init behtare chon dge ejbar nadare k daqiqan esme property vorudi ro daqiqan \"myatribute2\" bezari!\n",
    "\n",
    "################################\n",
    "simple_instance2 = SampleClass2()\n",
    "simple_instance2.myatribute2=10 #goes to descriptor, in there __set__ comes to handle it\n",
    "print(simple_instance2.myatribute2) #goes to descriptor, in there __get__ comes to handle it\n",
    "simple_instance2.myatribute2 = 100\n",
    "print(simple_instance2.myatribute2)"
   ]
  },
  {
   "cell_type": "code",
   "execution_count": 55,
   "metadata": {},
   "outputs": [
    {
     "name": "stdout",
     "output_type": "stream",
     "text": [
      "init\n",
      "set\n",
      "8\n",
      "get\n",
      "9\n"
     ]
    }
   ],
   "source": [
    "# data descriptor\n",
    "\n",
    "class A:\n",
    "    def __init__(self, a=None):\n",
    "        print('init')\n",
    "        self.a = a   \n",
    "        \n",
    "    def __set__(self, i, k):\n",
    "       print('set')\n",
    "       self.k = k\n",
    "       print(self.k)\n",
    "       \n",
    "    def __get__(self, i , o):   #i=object #o:(owner)khode classi ke bash process darim mikonim\n",
    "        print('get')\n",
    "        return self.k + 1\n",
    "       \n",
    "class B:\n",
    "    x = A(2)#deghat in 2 asanvajeb nabud bede va mohem nis dar in example ke init adad bgire      # init  set\n",
    "    \n",
    "    \n",
    "ob = B()   \n",
    "ob.x = 8    # set  8\n",
    "print(ob.x) # get  9 \n",
    "    "
   ]
  },
  {
   "cell_type": "code",
   "execution_count": 56,
   "metadata": {},
   "outputs": [
    {
     "name": "stdout",
     "output_type": "stream",
     "text": [
      "set\n",
      "10\n",
      "get\n",
      "11\n",
      "get\n",
      "11\n"
     ]
    }
   ],
   "source": [
    "### here is the first trouble with simple data descriptors\n",
    "ob2 = B()   \n",
    "ob2.x = 10\n",
    "print(ob.x)\n",
    "print(ob2.x)"
   ]
  },
  {
   "cell_type": "markdown",
   "metadata": {},
   "source": [
    "# Inhertiance\n",
    "#### deghat dar innit e child shoma \"AGAR bekhayn dar jai az dakhele child variable parent ro use konin yaenihata eshare..\" bayad  variable haye Parent ro ba yeki az 2halate  super().\\_\\init__ ya parent.\\_\\_init taklife resourcesh 0 roshan koni((ya hata mituni khodet dasti bedi YA haTA relatiONed esh koni ba var haye Parent)\n",
    "#### ama inke dar khode 1st line e calling init(..,..,..) aya var parent ro biari bastegi be in dar e ke vaghean mikhay ba calle child ono set koni(PAS DAR F1ST LINE BIARESH) ELIF: ya mikhay dasti ya RelationED oono set koni\n",
    "####  \\_\\_mro__   :  Method resolution order==>methodi hast ke ruye esme har classi baznish miad parent haye oono ba order naam mibare"
   ]
  },
  {
   "cell_type": "code",
   "execution_count": 59,
   "metadata": {},
   "outputs": [
    {
     "name": "stdout",
     "output_type": "stream",
     "text": [
      "welcome ali\n",
      "name: ali\n"
     ]
    }
   ],
   "source": [
    "class Person:\n",
    "    def __init__(self, name):\n",
    "        self.name = name\n",
    "    \n",
    "    def show(self):\n",
    "        print('name:' , self.name)\n",
    "                \n",
    "\n",
    "\n",
    "class Student(Person):  ###inja esme classe valed ro dar taerife child miari\n",
    "    def __init__(self, name, score):    # \"\"JUST age\"\" niaze variablle haye parent ro dar teye callinge child set beshe pas esme oon var haye parent ro dar Parantese init biar \n",
    "        #Person.__init__(self, name)   ## Hata inja ham chon dar Func e welcome be in varibale e parent niaz dasht=vajeb shod ke dar inite farzand be yeki az in 2ravesh \"init\"e valed ro ham call mikoni\n",
    "        super().__init__(name)  #deghat age super biari dge self ro tu variable hash nayar\n",
    "        self.score = score\n",
    "        \n",
    "    def welcome(self):\n",
    "        print('welcome', self.name)        \n",
    "        \n",
    "stu = Student('ali',20)        \n",
    "stu.welcome()            # welcom ali\n",
    "stu.show()              # mibini ke hata FUNC e parent ham tu std bala miad"
   ]
  },
  {
   "cell_type": "code",
   "execution_count": 60,
   "metadata": {},
   "outputs": [
    {
     "name": "stdout",
     "output_type": "stream",
     "text": [
      "6\n",
      "25\n",
      "(<class '__main__.Square'>, <class '__main__.Rect'>, <class 'object'>)\n"
     ]
    }
   ],
   "source": [
    "class Rect:\n",
    "    def __init__(self, x, y):\n",
    "        self.x = x\n",
    "        self.y = y\n",
    "   \n",
    "    def area(self):\n",
    "        return self.x * self.y\n",
    "        \n",
    "    \n",
    "class Square(Rect):\n",
    "    def __init__(self, z):\n",
    "        #Rect.__init__(self, x=z,y=z)\n",
    "        super().__init__(x=z,y=z)\n",
    "\n",
    "r = Rect(2, 3)\n",
    "print(r.area())        # 6\n",
    "\n",
    "s = Square(5)\n",
    "print(s.area())       # 25\n",
    "\n",
    "\n",
    "# __mro__   :  Method resolution order\n",
    "\n",
    "print(Square.__mro__)\n",
    "# (<class '__main__.Square'>, <class '__main__.Rect'>, <class 'object'>)"
   ]
  },
  {
   "cell_type": "markdown",
   "metadata": {},
   "source": [
    "## Multiple Inheritance: PYRAMMID HAMZAMAN AZ SQUARE VA TRIANGLE ERS MIBARE,kafie dar prantezE calling oon CHILD esme har2 ro biari"
   ]
  },
  {
   "cell_type": "code",
   "execution_count": 61,
   "metadata": {},
   "outputs": [],
   "source": [
    "class square(object):\n",
    "    def __init__(self,z):\n",
    "        self.z=z\n",
    "    def area(self):\n",
    "        return self.z * self.z\n",
    "    def ppp(self):   ### PPP=mohit\n",
    "        return 4*self.z\n",
    "class triangle:\n",
    "    def __init__(self,h):\n",
    "        self.h=h\n",
    "#     def area(self):\n",
    "#         return self.a*self.h*0.5\n",
    "############################################\n",
    "class pyramid(square,triangle):\n",
    "    def __init__(self,z,h):\n",
    "#         super().__init__(z)\n",
    "#         super().__init__(h)\n",
    "        square.__init__(self, z)\n",
    "        triangle.__init__(self, h)\n",
    "        \n",
    "    def surf(self):\n",
    "        return square.area(self)+0.5*self.h*square.ppp(self)\n",
    "        "
   ]
  },
  {
   "cell_type": "code",
   "execution_count": 62,
   "metadata": {},
   "outputs": [
    {
     "data": {
      "text/plain": [
       "24.0"
      ]
     },
     "execution_count": 62,
     "metadata": {},
     "output_type": "execute_result"
    }
   ],
   "source": [
    "a=pyramid(2,5)\n",
    "a.surf()"
   ]
  },
  {
   "cell_type": "markdown",
   "metadata": {},
   "source": [
    "## Multilevel Inheritance:: \n",
    "### ye class mitune childe chil bashe!!(nave!) deghat masan classe 4om yaeni CE faghat be onvane childe SE taerif shode! Ama khode SE childe Employee hast!(pas CE dar vaghe naveye Employee avalie hast) chon SE name va id ro az employee migire va baed CE avalan constant ro az SE migire,Zemnan name va id ham ke SE az Employee gerefte ham miad az SE migire!(yaeni harvagh az pedar chizi ke az digari gerefte bgiri,mishi NAVE!ye oon digari!)"
   ]
  },
  {
   "cell_type": "code",
   "execution_count": 63,
   "metadata": {},
   "outputs": [
    {
     "name": "stdout",
     "output_type": "stream",
     "text": [
      "1:sara = 400000\n",
      "2:ali = 5000000\n",
      "3:taha = 3500000\n"
     ]
    }
   ],
   "source": [
    "class Employee:\n",
    "      def __init__(self, id, name):\n",
    "          self.id = id\n",
    "          self.name = name\n",
    "    \n",
    "\n",
    "class HE(Employee):  ##karmand ba hourly payment\n",
    "      def __init__(self, id, name, hw, hr):\n",
    "      ############# hw=how much Hour(what)////hr:paying Rate in Hour\n",
    "          super().__init__(id, name)\n",
    "          self.hw = hw\n",
    "          self.hr = hr\n",
    " \n",
    "      def h(self):\n",
    "          return self.hw * self.hr      \n",
    "      \n",
    "class SE(Employee):  ###karmande daramad saabet \n",
    "      def __init__(self, id, name, constant):\n",
    "      ######### constant: constant monthly pay\n",
    "          super().__init__(id, name)\n",
    "          self.constant = constant\n",
    "      \n",
    "      def h(self):\n",
    "          return self.constant   \n",
    "    \n",
    "class CE(SE): #karmande daramad saabet ama ba Comission ezaf\n",
    "      def __init__(self, id, name, constant, comission):\n",
    "          super().__init__(id, name , constant)\n",
    "          self.comission = comission\n",
    "      \n",
    "      def h(self):\n",
    "          return self.constant + self.comission  \n",
    "##################################################################################  HALA MEGHDAR GIRI===>>>\n",
    "def payroll(lst):\n",
    "        for i in lst:\n",
    "            print(f'{i.id}:{i.name} = {i.h()}')\n",
    "\n",
    "ob1 = HE(1,'sara', 4, 100000)            \n",
    "ob2 = SE(2,'ali',5000000)\n",
    "ob3 = CE(3,'taha',3000000,500000)\n",
    "\n",
    "payroll([ob1, ob2, ob3])\n",
    "\n",
    "####albate shir afkan oomad hamun tabe iterating ham dar yek classe tak tabei gozash ke khob ye callinge class ezafe kari dasht!! vali miaram inja bbinish sean!!=>\n",
    "# class P:\n",
    "#     def payroll(self,lst):\n",
    "#         for i in lst:\n",
    "#             print(f'{i.id}:{i.name} = {i.h()}')\n",
    "# ob = P()\n",
    "# ob.payroll([ob1, ob2, ob3])"
   ]
  },
  {
   "cell_type": "markdown",
   "metadata": {},
   "source": [
    "## dimaond problem:\n",
    "##### google it to have the pict of it! A baba bozorge, b va c childeren hash hastan(Multiple inheritance);; ama D ham taerif shode ke ham az B va ham az C ers bari dare(engar b va c madar Pedar esh hastan va A babaBozorgeshe);; tabe f ro ke az objectesh bkhay aval be khodesh negah mikone! age nadahst ebashe ke inja nadare,nemire yeho soraghe PedarBozorg(yaeni A),mire aval az B va C migire! ama kodumeshun? ooni ke dar taerife khode classese d(c,b) aval ono eshare karde bashi!"
   ]
  },
  {
   "cell_type": "code",
   "execution_count": 64,
   "metadata": {},
   "outputs": [
    {
     "name": "stdout",
     "output_type": "stream",
     "text": [
      "B\n"
     ]
    }
   ],
   "source": [
    "class A:\n",
    "   def f(self):\n",
    "       print('A')\n",
    "       \n",
    "class B(A):\n",
    "   def f(self):\n",
    "       print('B')\n",
    "       \n",
    "class C(A):\n",
    "   def f(self):\n",
    "       print('C')\n",
    "       \n",
    "class D(B, C):\n",
    "    pass\n",
    "\n",
    "d = D()    \n",
    "d.f()   # B\n",
    "\n"
   ]
  },
  {
   "cell_type": "markdown",
   "metadata": {},
   "source": [
    "## Protected and Private Variables/Methods:\n",
    "\\_Protected varibale/Method ham az class ii ke taerif shode va ham az Subclass(child esh) mitune access bshe!! amalan fayedash ine faghat be reader bge=\"don't use these unless you really know you should!!\" ama moteghayer <mark>**\\_\\_PRIVATE (double underscore \\_\\_)sakht girtare asan az 2ta UnDerScor esh maelome!**</mark> va serfan dar classi ke taerif shode ghabele dasresi/chap hast! "
   ]
  },
  {
   "cell_type": "code",
   "execution_count": 65,
   "metadata": {},
   "outputs": [
    {
     "name": "stdout",
     "output_type": "stream",
     "text": [
      "1\n",
      "1\n",
      "2\n"
     ]
    }
   ],
   "source": [
    "class B: \n",
    "    def __init__(self, x, y):\n",
    "        self._a = x      # protected\n",
    "        self.__b = y     # private\n",
    "    \n",
    "    def f(self):       ##in func chon dar khode classe moteghayer hast hich errori nmigire hata va3 PRIVATE!\n",
    "        print(self._a)\n",
    "        print(self.__b) \n",
    "    \n",
    "class D(B):    \n",
    "    def h(self):\n",
    "        print(self._a)\n",
    "#         print(self.__b)  error\n",
    "        \n",
    "d = D(1, 2)        \n",
    "d.h()   # 1\n",
    "d.f()   # 1 2 "
   ]
  },
  {
   "cell_type": "markdown",
   "metadata": {},
   "source": [
    "#### <mark>**NOTICE: stealing Private from parent!!**</mark>= dar mesale celle baedi(ziri) vaghti az child(=d) ye functione dakhele parent ro seda mizane ke oon khodesh \\_f (ya \\_\\_f) ro  seda mizane! ama in \\_f ya \\_\\_f dar parent va child har2 taerif shode bashe! dar in halat kodum ejra mishan!==>\n",
    "### <mark>**dalil e inke engar belaxe ro fahmidam:**</mark> amalan inja tabeye darune khode child yaeni f e dakhele dovomi kheili moheme,chon olavafiat ine ke biad tabeye dakhele khode classi ke farakhani kardi ro bgire(yaeni child) ama vaghti to miay call mikoni ye tabe darune parent ro va hala az parent mikhay dastresi Baazgashti peida koni be child,age darune child \\_\\_Private bashe func,khob private ejaze dasresi az parent hamnmide(yaeni be har hal ye tabe dge hast)pas majbu mishe az tabe ham esmi ke dakhele khode parent hast run bgire! (ba try va test esbat mishe)"
   ]
  },
  {
   "cell_type": "code",
   "execution_count": 66,
   "metadata": {},
   "outputs": [
    {
     "name": "stdout",
     "output_type": "stream",
     "text": [
      "A\n"
     ]
    }
   ],
   "source": [
    "class B:\n",
    "    def __f(self):\n",
    "        return 'A'\n",
    "    \n",
    "    def g(self):\n",
    "        print(self.__f()) ###in khat hastr ke sarneveshtsaze!!!! va khalfe entezar ejra mikone!!\n",
    "        \n",
    "class D(B):    \n",
    "    def __f(self):\n",
    "        return 'B'\n",
    "\n",
    "d = D()    \n",
    "d.g()  ##d child hast,ama chon g ro khasti bas bere az parent bgire!  # A"
   ]
  },
  {
   "cell_type": "code",
   "execution_count": 67,
   "metadata": {},
   "outputs": [
    {
     "name": "stdout",
     "output_type": "stream",
     "text": [
      "B\n"
     ]
    }
   ],
   "source": [
    "class B:\n",
    "    def _f(self):\n",
    "        return 'A'\n",
    "    \n",
    "    def g(self):\n",
    "        print(self._f())\n",
    "        \n",
    "class D(B):    \n",
    "    def _f(self):\n",
    "        return 'B'\n",
    "\n",
    "d = D()    \n",
    "d.g()    # B\n"
   ]
  },
  {
   "cell_type": "markdown",
   "metadata": {},
   "source": [
    "\n",
    "## <mark>**Decorators**</mark> (joda va khareje OOP ham inha sare har Funvtioni karbordi hastand)"
   ]
  },
  {
   "cell_type": "markdown",
   "metadata": {},
   "source": [
    "### A decorator is a design pattern in Python that allows a user to add new functionality to an existing object(oni ke baede tarife decorator miaym esme decorator ro GHABLesh mizarim ro mige) without modifying its structure(yaeni matne dakhelesh0 das nmizani ama output esh0 avaz mikoni!). Decorators are usually called before the definition of a function you want to decorate. In this tutorial, we'll show the reader how they can use decorators in their Python functions.\n",
    "\n",
    "#### Functions in Python are first class citizens. This means that they support operations such as being passed as an argument, returned from a function, modified, and assigned to a variable\n",
    "#### <mark> for more accurate info read all the comments in the below cell!"
   ]
  },
  {
   "cell_type": "code",
   "execution_count": 101,
   "metadata": {},
   "outputs": [
    {
     "data": {
      "text/plain": [
       "'HELLO THERE'"
      ]
     },
     "execution_count": 101,
     "metadata": {},
     "output_type": "execute_result"
    }
   ],
   "source": [
    "## dar in mesal mikhay func e \"say_hi\" behesh ye ghabeliat ezaf bshe!! zemne inke salam mikone inbar UPPER_CASE salam kone! inja miay dge khode mohatavaye\n",
    "## 'say hi' dar tabeye salam ro dast nmizani;=> faghat kole in FUNC ro mindazi dakhele ye DECORATOR ke karesh UPPER_CASE kardan hast!\n",
    "\n",
    "def uppercase_decorator(function):     #defining the decorator it self as a func that its input is again a funcion (here named as func)\n",
    "    def wrapper():                     #defining a wrapper func in the decorator immediately(it just warpas(pooshesh mide) the input function of the decorator)\n",
    "        func = function()                        #Whatever you need to do on the input function do it here\n",
    "        make_uppercase = func.upper()            #Whatever you need to do on the input function do it here \n",
    "        return make_uppercase          #be sure to clear the output of the wrapper\n",
    "\n",
    "    return wrapper                  #ImPoRtAnT= ending of the decorator should \"Call and Run the Warpper\",in the inside U just defined wapper,but didnt run it!\n",
    "###################################################################\n",
    "def say_hi():\n",
    "    return 'hello there'\n",
    "##raveshe sonat ie Andakhtane ye tabe dakhele Decorator:=>\n",
    "#aval tabe ro vorudie tabeye decorator mikone va taze be hamin ham ye esme tabe jadid baayd bedi!!=>hala in tabe jadid ro hatman ba dashtane \"()\" bas cal koni!\n",
    "decorating = uppercase_decorator(say_hi)\n",
    "decorating()"
   ]
  },
  {
   "cell_type": "code",
   "execution_count": 102,
   "metadata": {},
   "outputs": [
    {
     "name": "stdout",
     "output_type": "stream",
     "text": [
      "before\n",
      "hello\n",
      "after\n"
     ]
    }
   ],
   "source": [
    "def d(func): \n",
    "    def wrapper():\n",
    "        print('before')\n",
    "        func()\n",
    "        print('after')\n",
    "    return wrapper\n",
    "\n",
    "\n",
    "def f():\n",
    "    print('hello')\n",
    "\n",
    "\n",
    "x = d(f)  \n",
    "x()      # before hello after\n",
    "\n",
    "# Type 2 of imposing Decorators: ######################################\n",
    "@d\n",
    "def f():\n",
    "    print('hello')"
   ]
  },
  {
   "cell_type": "markdown",
   "metadata": {},
   "source": [
    "### <mark>Note</mark>: you can also input any amount of variables to your wrapper func (as usual by defining arguments in the define line of func) which they will be filled exactly with the inputs of the main func you enter to the decorator!(in the below cell a of wrapper corresponds to the x of g func) "
   ]
  },
  {
   "cell_type": "code",
   "execution_count": 1,
   "metadata": {},
   "outputs": [],
   "source": [
    "def d(func):\n",
    "    def w(a):\n",
    "        func(a + 3)\n",
    "    return w\n",
    "        \n",
    "@d\n",
    "def g(x):\n",
    "    print(x)"
   ]
  },
  {
   "cell_type": "markdown",
   "metadata": {},
   "source": [
    "## Static and Class (and instance) METHODs! (just in OOP):\n",
    "##### instance methods haro tabehal kar mikardim ke avaln serfan ba OBJECT(=instance) haye class farakhani mishodan!(yaeni bas instanc ii taraif mikardi ta ba oon use beshan)2yoman ba self be varibles haye class dasresi dashtan\n",
    "#### Class/statics method in python must be created by decorating it with @class/staticmethod in order to let python now that the method should be static/class type.\n",
    "\n",
    "\n",
    "#### **CLASS METHODS**:\n",
    "#### A class method is a method that is bound to a class rather than its object. Class method(belaxe staic ke kamelan mostaghel hast) works with the class since its the first argument  of it is the class itself,usually named as \"cls\".BUT: Static method knows nothing about the class and just deals with the parameters. //**DeGhaT**: (like the 2nd example)class ethod ha be onvane **FACTORY METHOD** ham use mishan! harzaman beshe ba ye method ye dune class ro sakht bedune callinge \\_\\_init__ constructore class,darvaghe karkhuneye object sazi az class! hala class method ha chon be esme class dastresi daran(albate na be input hash) mitunan class besazan ba input hai ke khodeshun joda goone az input khahand gereft!\n",
    "\n",
    "\n",
    "#### **nokte mohem**: exmple 3 below!=>dar class methods hatman bayad tedade input arguments ba tedade inpute \\_\\_init__ barabar bashe, vai lozumi be ham esm bodaneshun nist,serfan bar asase ORDER inar0 correspond mikone be ham!!ama dar khorji giri az instance ha che original bashan che ba staticmethod sakhte shode bashan esme property har0 bayad ejbare ke esmhayii ke dar init taerif  kardi bezari!!maslan dar 3rd exaple  'age' dar init taerif shode,baed dar class method oon 2nd arg ro \"y\" namgozari karde,ama mogheye khoruji giri dobare BAYAD vajebe ke ba esme \"age\" azash output bkhad! va mibini parametre citizenship ham ba esme dge ii saresh bala avorde!))\n",
    "\n",
    "#### **static methods**\n",
    "##### ghabele estefade hastan age oon class hata instance(objecti)nadari azash!(called without instantiating the class) pas: instance ha(obejects of class) ghabele call hast, ham ba esme khode Classi ke tush taerif shode! These methods are self-contained, meaning that they cannot access any other attribute or call any other method within that class.(yaeni self e digar varibales ya digar methodse class ro dasresi nadare!)\n",
    "\n",
    "\n",
    "```python\n",
    "instance method:\n",
    "      def f(self, a):    #age bkhay mituni serfanba avordan self digar vizhegi hata method haye class ro use koni\n",
    "          pass\n",
    "          \n",
    "class method==>\n",
    "\n",
    "      @classmethod\n",
    "      def g(cls(maznur classi ke daresh tarif shode), a):   #nmishe aslan tush self ro call koni va darnatije property/method hay digar ro use koni aslan!\n",
    "         pass\n",
    "\n",
    "static method==>\n",
    "\n",
    "      @staticmethod\n",
    "      def h(a):\n",
    "          pass\n",
    "        "
   ]
  },
  {
   "cell_type": "code",
   "execution_count": 9,
   "metadata": {},
   "outputs": [
    {
     "name": "stdout",
     "output_type": "stream",
     "text": [
      "5\n",
      "5\n",
      "True\n"
     ]
    }
   ],
   "source": [
    "class A :\n",
    "    def __init__(self, x):\n",
    "        self.x = x\n",
    "    \n",
    "    @staticmethod\n",
    "    def func_sum(m, n):\n",
    "        print( m + n)   \n",
    "        # print(self.x)  error\n",
    "\n",
    "A.func_sum(2, 3)   # 5\n",
    "\n",
    "ob = A(8) #ba in parametre hai ke az vorudi aslie class(tavasote init) moshakhas mishan nmitune class/static method use kone(mibini 8ro asan engar nadide!)\n",
    "ob.func_sum(2, 3) # 5\n",
    "\n",
    "print(A.func_sum == ob.func_sum )  # True"
   ]
  },
  {
   "cell_type": "code",
   "execution_count": 20,
   "metadata": {},
   "outputs": [
    {
     "name": "stdout",
     "output_type": "stream",
     "text": [
      "Adam's age is: 19\n",
      "John's age is: 36\n"
     ]
    }
   ],
   "source": [
    "# random Person\n",
    "from datetime import date\n",
    "class Person:\n",
    "    def __init__(self, name, age):\n",
    "        self.name = name\n",
    "        self.age = age\n",
    "\n",
    "    @classmethod\n",
    "    def fromBirthYear(cls, name, birthYear):\n",
    "        return cls(name, date.today().year - birthYear)\n",
    "\n",
    "    def display(self):\n",
    "        print(self.name + \"'s age is: \" + str(self.age))\n",
    "\n",
    "person = Person('Adam', 19)\n",
    "person.display()    #Adam's age is: 19\n",
    "\n",
    "######***==>> hala mibini dar zir FACTORY amalan baz hamun etelate adam va 19 ro khode class method! migie!! va daqiq yedune instance mesle khate bala misaze ama royesh in mohasebar0 anjam mide ke sene kham ro tabdil be Age mikone;;\n",
    "##pas factory miad masalan be classe pizza sazi mige,bashe pizza mikham,ama moshtari mige sause more bashe ya beja gerd,moraba bezan!(customized product/instance mide)\n",
    "\n",
    "person1 = Person.fromBirthYear('John',  1985)\n",
    "person1.display()    #John's age is: 31"
   ]
  },
  {
   "cell_type": "code",
   "execution_count": 36,
   "metadata": {},
   "outputs": [
    {
     "name": "stdout",
     "output_type": "stream",
     "text": [
      "49\n",
      "farshid\n",
      "dontknow\n"
     ]
    }
   ],
   "source": [
    "from datetime import date\n",
    "class C:\n",
    "    def __init__(self,name, age,citizenship):\n",
    "        self.name = name\n",
    "        self.age = age\n",
    "        self.citizenship=citizenship\n",
    "    \n",
    "    @classmethod        \n",
    "    def factory(cls,name, year,non):\n",
    "        y = date.today().year - year\n",
    "#         non='valid'\n",
    "        return cls(name, y,non)\n",
    "     \n",
    "#     @staticmethod\n",
    "#     def s(age):\n",
    "#         return age < 50\n",
    "        \n",
    "ob = C.factory('farshid',1972,'dontknow')\n",
    "print(ob.age)                 # 48\n",
    "print(ob.name)                # farshid\n",
    "print(ob.citizenship) \n",
    "\n",
    "# print(ob.s(48))   "
   ]
  },
  {
   "cell_type": "code",
   "execution_count": null,
   "metadata": {},
   "outputs": [],
   "source": []
  }
 ],
 "metadata": {
  "kernelspec": {
   "display_name": "Python 3",
   "language": "python",
   "name": "python3"
  },
  "language_info": {
   "codemirror_mode": {
    "name": "ipython",
    "version": 3
   },
   "file_extension": ".py",
   "mimetype": "text/x-python",
   "name": "python",
   "nbconvert_exporter": "python",
   "pygments_lexer": "ipython3",
   "version": "3.8.5"
  }
 },
 "nbformat": 4,
 "nbformat_minor": 4
}
